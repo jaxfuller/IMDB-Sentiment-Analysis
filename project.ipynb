{
 "cells": [
  {
   "cell_type": "markdown",
   "metadata": {},
   "source": [
    "# CS345 Project"
   ]
  },
  {
   "cell_type": "markdown",
   "metadata": {},
   "source": [
    "For our dataset, we will be using the [Large Movie Review Dataset](https://ai.stanford.edu/~amaas/data/sentiment/). Due to the size of this dataset, it could not be uploaded to github. Please download the dataset yourself, extract it, and move it to the \"data\" directory."
   ]
  },
  {
   "cell_type": "markdown",
   "metadata": {},
   "source": [
    "### Imports"
   ]
  },
  {
   "cell_type": "code",
   "execution_count": null,
   "metadata": {},
   "outputs": [],
   "source": [
    "import os\n",
    "import pandas as pd\n",
    "import re\n",
    "import nltk\n",
    "from nltk.corpus import stopwords\n",
    "from nltk.stem import WordNetLemmatizer\n",
    "from sklearn.feature_extraction.text import TfidfVectorizer, CountVectorizer\n",
    "from sklearn.model_selection import train_test_split\n",
    "from sklearn.naive_bayes import MultinomialNB\n",
    "from sklearn.metrics import classification_report\n",
    "from tqdm import tqdm"
   ]
  },
  {
   "cell_type": "markdown",
   "metadata": {},
   "source": [
    "### Load the data"
   ]
  },
  {
   "cell_type": "code",
   "execution_count": null,
   "metadata": {},
   "outputs": [],
   "source": [
    "def load_data(data_dir):\n",
    "    data = []\n",
    "    for sentiment in ['pos', 'neg']:\n",
    "        sentiment_dir = os.path.join(data_dir, sentiment)\n",
    "        print(f\"Processing '{sentiment}' reviews...\")\n",
    "        file_list = os.listdir(sentiment_dir)\n",
    "        # Use tqdm to create a progress bar as loading can take a while, we want to make sure it isn't hanging\n",
    "        for filename in tqdm(file_list, desc=f\"Loading {sentiment} files\"):\n",
    "            if filename.endswith('.txt'):\n",
    "                filepath = os.path.join(sentiment_dir, filename)\n",
    "                with open(filepath, 'r', encoding='utf-8') as f:\n",
    "                    review = f.read()\n",
    "                data.append({\n",
    "                    'review': review,\n",
    "                    'sentiment': 1 if sentiment == 'pos' else 0,\n",
    "                })\n",
    "\n",
    "    df = pd.DataFrame(data)\n",
    "    print(f\"Loaded {len(df)} reviews from '{data_dir}'\")\n",
    "    return df\n",
    "\n",
    "train_data = load_data('data/aclImdb/train')\n",
    "test_data = load_data('data/aclImdb/test')"
   ]
  },
  {
   "cell_type": "markdown",
   "metadata": {},
   "source": [
    "### Let's check out some of the data"
   ]
  },
  {
   "cell_type": "code",
   "execution_count": null,
   "metadata": {},
   "outputs": [],
   "source": [
    "print(train_data.head())"
   ]
  },
  {
   "cell_type": "markdown",
   "metadata": {},
   "source": [
    "### Data Preprocessing"
   ]
  },
  {
   "cell_type": "code",
   "execution_count": null,
   "metadata": {},
   "outputs": [],
   "source": [
    "nltk.download('stopwords')\n",
    "nltk.download('wordnet')\n",
    "\n",
    "def preprocess_text(text, stop_words, lemmatizer):\n",
    "    # Remove HTML tags\n",
    "    text = re.sub(r'<[^>]+>', '', text)\n",
    "    # Remove special characters and numbers\n",
    "    text = re.sub(r'[^a-zA-Z\\s]', '', text)\n",
    "    # Convert to lowercase\n",
    "    text = text.lower()\n",
    "    # Tokenize\n",
    "    tokens = text.split()\n",
    "    # Remove stopwords\n",
    "    tokens = [word for word in tokens if word not in stop_words]\n",
    "    # Lemmatize\n",
    "    tokens = [lemmatizer.lemmatize(word) for word in tokens]\n",
    "    return ' '.join(tokens)\n",
    "\n",
    "def preprocess_with_nltk(data):\n",
    "    stop_words = set(stopwords.words('english'))\n",
    "    lemmatizer = WordNetLemmatizer()\n",
    "    \n",
    "    tqdm.pandas(desc=\"Preprocessing text\")\n",
    "    data['review'] = data['review'].progress_apply(lambda x: preprocess_text(x, stop_words, lemmatizer))\n",
    "    return data\n",
    "\n",
    "train_data = preprocess_with_nltk(train_data)\n",
    "test_data = preprocess_with_nltk(test_data)"
   ]
  },
  {
   "cell_type": "markdown",
   "metadata": {},
   "source": [
    "Let's compare the data to what we had before preprocessing"
   ]
  },
  {
   "cell_type": "code",
   "execution_count": null,
   "metadata": {},
   "outputs": [],
   "source": [
    "print(train_data.head())"
   ]
  },
  {
   "cell_type": "markdown",
   "metadata": {},
   "source": [
    "### We will be using both TF-IDF and Bag of Words for feature extraction, and compare performance between the two."
   ]
  },
  {
   "cell_type": "code",
   "execution_count": null,
   "metadata": {},
   "outputs": [],
   "source": [
    "def extract_tfidf_features(train_data, test_data, max_features=5000):\n",
    "    print(\"Extracting TF-IDF features...\")\n",
    "    tfidf_vectorizer = TfidfVectorizer(max_features=max_features)\n",
    "    X_train_tfidf = tfidf_vectorizer.fit_transform(train_data['review'])\n",
    "    X_test_tfidf = tfidf_vectorizer.transform(test_data['review'])\n",
    "    return X_train_tfidf, X_test_tfidf, tfidf_vectorizer\n",
    "\n",
    "def extract_bow_features(train_data, test_data, max_features=5000):\n",
    "    print(\"Extracting Bag of Words features...\")\n",
    "    bow_vectorizer = CountVectorizer(max_features=max_features)\n",
    "    X_train_bow = bow_vectorizer.fit_transform(train_data['review'])\n",
    "    X_test_bow = bow_vectorizer.transform(test_data['review'])\n",
    "    return X_train_bow, X_test_bow, bow_vectorizer\n",
    "\n",
    "X_train_bow, X_test_bow, bow_vectorizer = extract_bow_features(train_data, test_data)\n",
    "X_train_tfidf, X_test_tfidf, tfidf_vectorizer = extract_tfidf_features(train_data, test_data)\n",
    "\n",
    "# Labels\n",
    "y_train = train_data['sentiment']\n",
    "y_test = test_data['sentiment']"
   ]
  },
  {
   "cell_type": "code",
   "execution_count": null,
   "metadata": {},
   "outputs": [],
   "source": [
    "# Compare dimensions and sparsity\n",
    "print(\"Bag of Words Feature Matrix:\")\n",
    "print(f\"Shape: {X_train_bow.shape}\")\n",
    "print(\"Sparsity (BoW): {:.2f}%\".format(100 * (X_train_bow.nnz / (X_train_bow.shape[0] * X_train_bow.shape[1]))))\n",
    "\n",
    "print(\"\\nTF-IDF Feature Matrix:\")\n",
    "print(f\"Shape: {X_train_tfidf.shape}\")\n",
    "print(\"Sparsity (TF-IDF): {:.2f}%\".format(100 * (X_train_tfidf.nnz / (X_train_tfidf.shape[0] * X_train_tfidf.shape[1]))))"
   ]
  }
 ],
 "metadata": {
  "kernelspec": {
   "display_name": "Python 3",
   "language": "python",
   "name": "python3"
  },
  "language_info": {
   "codemirror_mode": {
    "name": "ipython",
    "version": 3
   },
   "file_extension": ".py",
   "mimetype": "text/x-python",
   "name": "python",
   "nbconvert_exporter": "python",
   "pygments_lexer": "ipython3",
   "version": "3.10.6"
  }
 },
 "nbformat": 4,
 "nbformat_minor": 2
}
