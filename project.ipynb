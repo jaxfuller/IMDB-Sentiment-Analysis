{
 "cells": [
  {
   "cell_type": "markdown",
   "metadata": {},
   "source": [
    "# CS345 Project: Sentiment Analysis of Movie Reviews\n",
    "**Authors: Jackson Fuller and Dereck Lebron**"
   ]
  },
  {
   "cell_type": "markdown",
   "metadata": {},
   "source": [
    "# Introduction\n",
    "**For our dataset, we will be using the [Large Movie Review Dataset](https://ai.stanford.edu/~amaas/data/sentiment/). Due to the size of this dataset, it could not be uploaded to github. Please download the dataset yourself, extract it, and move it to the \"data\" directory. If the folder is called 'aclImdb1' after extraction, please pull out the folder called 'aclImdb' from inside of it and move it towards the data directory.**\n",
    "\n",
    "Sentiment analysis is an application within the field of Natural Language Processing. It involves analyzing text in order to define the sentimentality or emotion behind it, whether it be positive, neutral, or neutral. Fields such as marketing, customer feedback, and social media monitoring us this technique.\n",
    "\n",
    "We are focusing on movie reviews to determine whether they express a positive or negative sentiment. We aim to explore the challenges and strengths of text classification techniques.\n",
    "\n",
    "### Goals\n",
    "\n",
    "1. Build and test models that classify movie reviews as either positive or negative.\n",
    "2. Preprocess the text data effectively for use in machine learning.\n",
    "3. Compare the performance of a simple probabilistic model (Naive Bayes) to a more advanced Recurrent Neural Network (RNN).\n",
    "4. Analyze and interpret the results to better understand the models' behaviors and limitations.\n",
    "\n",
    "This project allows us to engage with both foundational and advanced methods in machine learning"
   ]
  },
  {
   "cell_type": "markdown",
   "metadata": {},
   "source": [
    "# Dataset Description\n",
    "\n",
    "The dataset we are using comes from the IMDB Movie Review Dataset. It contains a total of 50,000 movie reviews, evenly divided into positive and negative sentiments. The data has been pre-split into two subsets: 25,000 reviews for training and 25,000 for testing. Each review varies in length and complexity, offering a realistic dataset for sentiment analysis.\n",
    "\n",
    "### Key Features:\n",
    "\n",
    "- **Balanced Dataset**: The equal number of positive and negative reviews ensures unbiased model training.  \n",
    "- **Diverse Text**: The reviews are written in different styles and lengths, mimicking the diversity of real-world data.  \n",
    "- **Pre-Split**: The dataset is already divided into training and testing sets, simplifying workflow.\n"
   ]
  },
  {
   "cell_type": "markdown",
   "metadata": {},
   "source": [
    "### Imports"
   ]
  },
  {
   "cell_type": "code",
   "execution_count": 65,
   "metadata": {},
   "outputs": [],
   "source": [
    "import os\n",
    "import pandas as pd\n",
    "import re\n",
    "import nltk\n",
    "from nltk.corpus import stopwords\n",
    "from nltk.stem import WordNetLemmatizer\n",
    "from sklearn.feature_extraction.text import TfidfVectorizer, CountVectorizer\n",
    "from sklearn.model_selection import train_test_split\n",
    "from sklearn.naive_bayes import MultinomialNB\n",
    "from sklearn.metrics import classification_report, accuracy_score\n",
    "from tqdm import tqdm\n",
    "import logging\n",
    "import matplotlib.pyplot as plt\n",
    "from sklearn.svm import LinearSVC\n",
    "from IPython.display import display"
   ]
  },
  {
   "cell_type": "markdown",
   "metadata": {},
   "source": [
    "### Load the data"
   ]
  },
  {
   "cell_type": "code",
   "execution_count": 20,
   "metadata": {},
   "outputs": [
    {
     "name": "stdout",
     "output_type": "stream",
     "text": [
      "Processing 'pos' reviews...\n"
     ]
    },
    {
     "name": "stderr",
     "output_type": "stream",
     "text": [
      "Loading pos files: 100%|██████████| 12500/12500 [00:01<00:00, 9989.20it/s] \n"
     ]
    },
    {
     "name": "stdout",
     "output_type": "stream",
     "text": [
      "Processing 'neg' reviews...\n"
     ]
    },
    {
     "name": "stderr",
     "output_type": "stream",
     "text": [
      "Loading neg files: 100%|██████████| 12500/12500 [00:01<00:00, 11081.74it/s]\n"
     ]
    },
    {
     "name": "stdout",
     "output_type": "stream",
     "text": [
      "Loaded 25000 reviews from 'data/aclImdb/train'\n",
      "Processing 'pos' reviews...\n"
     ]
    },
    {
     "name": "stderr",
     "output_type": "stream",
     "text": [
      "Loading pos files: 100%|██████████| 12500/12500 [00:01<00:00, 11331.39it/s]\n"
     ]
    },
    {
     "name": "stdout",
     "output_type": "stream",
     "text": [
      "Processing 'neg' reviews...\n"
     ]
    },
    {
     "name": "stderr",
     "output_type": "stream",
     "text": [
      "Loading neg files: 100%|██████████| 12500/12500 [00:01<00:00, 10755.11it/s]"
     ]
    },
    {
     "name": "stdout",
     "output_type": "stream",
     "text": [
      "Loaded 25000 reviews from 'data/aclImdb/test'\n"
     ]
    },
    {
     "name": "stderr",
     "output_type": "stream",
     "text": [
      "\n"
     ]
    }
   ],
   "source": [
    "def load_data(data_dir):\n",
    "    data = []\n",
    "    for sentiment in ['pos', 'neg']:\n",
    "        sentiment_dir = os.path.join(data_dir, sentiment)\n",
    "        print(f\"Processing '{sentiment}' reviews...\")\n",
    "        file_list = os.listdir(sentiment_dir)\n",
    "        # Use tqdm to create a progress bar as loading can take a while, we want to make sure it isn't hanging\n",
    "        for filename in tqdm(file_list, desc=f\"Loading {sentiment} files\"):\n",
    "            if filename.endswith('.txt'):\n",
    "                filepath = os.path.join(sentiment_dir, filename)\n",
    "                with open(filepath, 'r', encoding='utf-8') as f:\n",
    "                    review = f.read()\n",
    "                data.append({\n",
    "                    'review': review,\n",
    "                    'sentiment': 1 if sentiment == 'pos' else 0,\n",
    "                })\n",
    "\n",
    "    df = pd.DataFrame(data)\n",
    "    print(f\"Loaded {len(df)} reviews from '{data_dir}'\")\n",
    "    return df\n",
    "\n",
    "train_data = load_data('data/aclImdb/train')\n",
    "test_data = load_data('data/aclImdb/test')"
   ]
  },
  {
   "cell_type": "markdown",
   "metadata": {},
   "source": [
    "### Let's check out some of the data"
   ]
  },
  {
   "cell_type": "code",
   "execution_count": 21,
   "metadata": {},
   "outputs": [
    {
     "name": "stdout",
     "output_type": "stream",
     "text": [
      "                                              review  sentiment\n",
      "0  Bromwell High is a cartoon comedy. It ran at t...          1\n",
      "1  Homelessness (or Houselessness as George Carli...          1\n",
      "2  Brilliant over-acting by Lesley Ann Warren. Be...          1\n",
      "3  This is easily the most underrated film inn th...          1\n",
      "4  This is not the typical Mel Brooks film. It wa...          1\n"
     ]
    }
   ],
   "source": [
    "print(train_data.head())"
   ]
  },
  {
   "cell_type": "markdown",
   "metadata": {},
   "source": [
    "# Data Preprocessing\n",
    "\n",
    "Preparing text data for analysis is an essential step. To ensure the data is clean and suitable for our models, we applied the following steps:\n",
    "\n",
    "- **Text Cleaning**: Removed unnecessary elements such as HTML tags, special characters, and numbers that don’t contribute to sentiment.\n",
    "- **Tokenization**: Broke down the text into individual words to make it analyzable.\n",
    "- **Normalization**: Converted all text to lowercase for consistency.\n",
    "- **Stop-word Removal**: Eliminated frequently used words like \"the\" and \"is\" that don't add much meaning to the analysis.\n",
    "- **Stemming/Lemmatization**: Simplified words to their root forms (e.g., \"running\" becomes \"run\") to reduce variation.\n"
   ]
  },
  {
   "cell_type": "code",
   "execution_count": 22,
   "metadata": {},
   "outputs": [
    {
     "name": "stderr",
     "output_type": "stream",
     "text": [
      "Preprocessing text: 100%|██████████| 25000/25000 [00:10<00:00, 2412.08it/s]\n",
      "Preprocessing text: 100%|██████████| 25000/25000 [00:10<00:00, 2432.12it/s]\n"
     ]
    }
   ],
   "source": [
    "logging.getLogger('nltk').setLevel(logging.ERROR)\n",
    "\n",
    "\n",
    "def preprocess_text(text, stop_words, lemmatizer):\n",
    "    # Remove HTML tags\n",
    "    text = re.sub(r'<[^>]+>', '', text)\n",
    "    # Remove special characters and numbers\n",
    "    text = re.sub(r'[^a-zA-Z\\s]', '', text)\n",
    "    # Convert to lowercase\n",
    "    text = text.lower()\n",
    "    # Tokenize\n",
    "    tokens = text.split()\n",
    "    # Remove stopwords\n",
    "    tokens = [word for word in tokens if word not in stop_words]\n",
    "    # Lemmatize\n",
    "    tokens = [lemmatizer.lemmatize(word) for word in tokens]\n",
    "    return ' '.join(tokens)\n",
    "\n",
    "def preprocess_with_nltk(data):\n",
    "    stop_words = set(stopwords.words('english'))\n",
    "    lemmatizer = WordNetLemmatizer()\n",
    "    \n",
    "    tqdm.pandas(desc=\"Preprocessing text\")\n",
    "    data['review'] = data['review'].progress_apply(lambda x: preprocess_text(x, stop_words, lemmatizer))\n",
    "    return data\n",
    "\n",
    "train_data = preprocess_with_nltk(train_data)\n",
    "test_data = preprocess_with_nltk(test_data)"
   ]
  },
  {
   "cell_type": "markdown",
   "metadata": {},
   "source": [
    "### Let's compare the data to what we had before preprocessing..."
   ]
  },
  {
   "cell_type": "code",
   "execution_count": 23,
   "metadata": {},
   "outputs": [
    {
     "name": "stdout",
     "output_type": "stream",
     "text": [
      "                                              review  sentiment\n",
      "0  bromwell high cartoon comedy ran time program ...          1\n",
      "1  homelessness houselessness george carlin state...          1\n",
      "2  brilliant overacting lesley ann warren best dr...          1\n",
      "3  easily underrated film inn brook cannon sure f...          1\n",
      "4  typical mel brook film much le slapstick movie...          1\n"
     ]
    }
   ],
   "source": [
    "print(train_data.head())"
   ]
  },
  {
   "cell_type": "markdown",
   "metadata": {},
   "source": [
    "# Feature Extraction\n",
    "\n",
    "The data must now be converted into a numerical format that models can interpret. \n",
    "We used two techniques, \n",
    "\n",
    "- **Bag of Words (BoW)**: Captures the frequency of each unique word in the text. While simple, this method can result in high-dimensional feature spaces.\n",
    "- **TF-IDF (Term Frequency-Inverse Document Frequency)**: Assigns weights to words based on their importance in a review relative to their occurrence across all reviews. This highlights key words that contribute to sentiment."
   ]
  },
  {
   "cell_type": "code",
   "execution_count": 10,
   "metadata": {},
   "outputs": [
    {
     "name": "stdout",
     "output_type": "stream",
     "text": [
      "Extracting Bag of Words features...\n",
      "Extracting TF-IDF features...\n"
     ]
    }
   ],
   "source": [
    "def extract_tfidf_features(train_data, test_data, max_features=5000):\n",
    "    print(\"Extracting TF-IDF features...\")\n",
    "    tfidf_vectorizer = TfidfVectorizer(max_features=max_features)\n",
    "    X_train_tfidf = tfidf_vectorizer.fit_transform(train_data['review'])\n",
    "    X_test_tfidf = tfidf_vectorizer.transform(test_data['review'])\n",
    "    return X_train_tfidf, X_test_tfidf, tfidf_vectorizer\n",
    "\n",
    "def extract_bow_features(train_data, test_data, max_features=5000):\n",
    "    print(\"Extracting Bag of Words features...\")\n",
    "    bow_vectorizer = CountVectorizer(max_features=max_features)\n",
    "    X_train_bow = bow_vectorizer.fit_transform(train_data['review'])\n",
    "    X_test_bow = bow_vectorizer.transform(test_data['review'])\n",
    "    return X_train_bow, X_test_bow, bow_vectorizer\n",
    "\n",
    "X_train_bow, X_test_bow, bow_vectorizer = extract_bow_features(train_data, test_data)\n",
    "X_train_tfidf, X_test_tfidf, tfidf_vectorizer = extract_tfidf_features(train_data, test_data)\n",
    "\n",
    "# Labels\n",
    "y_train = train_data['sentiment']\n",
    "y_test = test_data['sentiment']"
   ]
  },
  {
   "cell_type": "code",
   "execution_count": 29,
   "metadata": {},
   "outputs": [
    {
     "name": "stdout",
     "output_type": "stream",
     "text": [
      "\u001b[1mBag of Words Feature Matrix:\u001b[0m\n",
      "Shape: (25000, 5000)\n",
      "Sparsity (BoW): 1.57%\n",
      "\n",
      "\u001b[1mTF-IDF Feature Matrix:\u001b[0m\n",
      "Shape: (25000, 5000)\n",
      "Sparsity (TF-IDF): 1.57%\n"
     ]
    }
   ],
   "source": [
    "# Compare dimensions and sparsity\n",
    "print(\"\\033[1mBag of Words Feature Matrix:\\033[0m\")\n",
    "print(f\"Shape: {X_train_bow.shape}\")\n",
    "print(\"Sparsity (BoW): {:.2f}%\".format(100 * (X_train_bow.nnz / (X_train_bow.shape[0] * X_train_bow.shape[1]))))\n",
    "\n",
    "print(\"\\n\\033[1mTF-IDF Feature Matrix:\\033[0m\")\n",
    "print(f\"Shape: {X_train_tfidf.shape}\")\n",
    "print(\"Sparsity (TF-IDF): {:.2f}%\".format(100 * (X_train_tfidf.nnz / (X_train_tfidf.shape[0] * X_train_tfidf.shape[1]))))"
   ]
  },
  {
   "cell_type": "markdown",
   "metadata": {},
   "source": [
    "# Model Training and Evaluation: Naive Bayes\n",
    "\n",
    "Naive Bayes is a probabilistic algorithm that assumes features are independent. Despite this, it performs well on text classification tasks, especially when combined with Bag of Words or TF-IDF."
   ]
  },
  {
   "cell_type": "code",
   "execution_count": 52,
   "metadata": {},
   "outputs": [
    {
     "name": "stdout",
     "output_type": "stream",
     "text": [
      "\n",
      "Training Naïve Bayes on Bag of Words...\n",
      "\n",
      "Training Naïve Bayes on TF-IDF...\n"
     ]
    },
    {
     "data": {
      "text/html": [
       "<div>\n",
       "<style scoped>\n",
       "    .dataframe tbody tr th:only-of-type {\n",
       "        vertical-align: middle;\n",
       "    }\n",
       "\n",
       "    .dataframe tbody tr th {\n",
       "        vertical-align: top;\n",
       "    }\n",
       "\n",
       "    .dataframe thead th {\n",
       "        text-align: right;\n",
       "    }\n",
       "</style>\n",
       "<table border=\"1\" class=\"dataframe\">\n",
       "  <thead>\n",
       "    <tr style=\"text-align: right;\">\n",
       "      <th></th>\n",
       "      <th>Feature Set</th>\n",
       "      <th>Accuracy</th>\n",
       "      <th>Precision (Class 0)</th>\n",
       "      <th>Recall (Class 0)</th>\n",
       "      <th>F1-Score (Class 0)</th>\n",
       "      <th>Precision (Class 1)</th>\n",
       "      <th>Recall (Class 1)</th>\n",
       "      <th>F1-Score (Class 1)</th>\n",
       "    </tr>\n",
       "  </thead>\n",
       "  <tbody>\n",
       "    <tr>\n",
       "      <th>0</th>\n",
       "      <td>Bag of Words</td>\n",
       "      <td>0.83348</td>\n",
       "      <td>0.815294</td>\n",
       "      <td>0.86232</td>\n",
       "      <td>0.838148</td>\n",
       "      <td>0.853893</td>\n",
       "      <td>0.80464</td>\n",
       "      <td>0.828535</td>\n",
       "    </tr>\n",
       "    <tr>\n",
       "      <th>1</th>\n",
       "      <td>TF-IDF</td>\n",
       "      <td>0.83880</td>\n",
       "      <td>0.825920</td>\n",
       "      <td>0.85856</td>\n",
       "      <td>0.841924</td>\n",
       "      <td>0.852740</td>\n",
       "      <td>0.81904</td>\n",
       "      <td>0.835550</td>\n",
       "    </tr>\n",
       "  </tbody>\n",
       "</table>\n",
       "</div>"
      ],
      "text/plain": [
       "    Feature Set  Accuracy  Precision (Class 0)  Recall (Class 0)  \\\n",
       "0  Bag of Words   0.83348             0.815294           0.86232   \n",
       "1        TF-IDF   0.83880             0.825920           0.85856   \n",
       "\n",
       "   F1-Score (Class 0)  Precision (Class 1)  Recall (Class 1)  \\\n",
       "0            0.838148             0.853893           0.80464   \n",
       "1            0.841924             0.852740           0.81904   \n",
       "\n",
       "   F1-Score (Class 1)  \n",
       "0            0.828535  \n",
       "1            0.835550  "
      ]
     },
     "metadata": {},
     "output_type": "display_data"
    }
   ],
   "source": [
    "results = []\n",
    "\n",
    "def train_naive_bayes(X_train, X_test, y_train, y_test, feature_name):\n",
    "    print(f\"\\nTraining Naïve Bayes on {feature_name}...\")\n",
    "    model = MultinomialNB()\n",
    "    model.fit(X_train, y_train)\n",
    "    y_pred = model.predict(X_test)\n",
    "\n",
    "    # Evaluation metrics\n",
    "    report = classification_report(y_test, y_pred, output_dict=True)\n",
    "    accuracy = accuracy_score(y_test, y_pred)\n",
    "    \n",
    "    # Append results\n",
    "    results.append({\n",
    "        \"Feature Set\": feature_name,\n",
    "        \"Accuracy\": accuracy,\n",
    "        \"Precision (Class 0)\": report['0']['precision'],\n",
    "        \"Recall (Class 0)\": report['0']['recall'],\n",
    "        \"F1-Score (Class 0)\": report['0']['f1-score'],\n",
    "        \"Precision (Class 1)\": report['1']['precision'],\n",
    "        \"Recall (Class 1)\": report['1']['recall'],\n",
    "        \"F1-Score (Class 1)\": report['1']['f1-score'],\n",
    "    })\n",
    "\n",
    "    return model\n",
    "\n",
    "nb_bow_model = train_naive_bayes(X_train_bow, X_test_bow, y_train, y_test, \"Bag of Words\")\n",
    "nb_tfidf_model = train_naive_bayes(X_train_tfidf, X_test_tfidf, y_train, y_test, \"TF-IDF\")\n",
    "\n",
    "results_df = pd.DataFrame(results)\n",
    "\n",
    "display(results_df)"
   ]
  },
  {
   "cell_type": "code",
   "execution_count": 53,
   "metadata": {},
   "outputs": [
    {
     "data": {
      "image/png": "[encoded data removed]",
      "text/plain": [
       "<Figure size 1200x600 with 1 Axes>"
      ]
     },
     "metadata": {},
     "output_type": "display_data"
    }
   ],
   "source": [
    "# Extract metrics\n",
    "metrics = [\"Accuracy\", \"Precision (Class 0)\", \"Recall (Class 0)\", \"F1-Score (Class 0)\"]\n",
    "feature_sets = results_df[\"Feature Set\"]\n",
    "\n",
    "# Transpose metrics\n",
    "values = results_df[metrics].T.values\n",
    "\n",
    "# Bar width and x positions\n",
    "bar_width = 0.2\n",
    "x = np.arange(len(feature_sets))\n",
    "\n",
    "# Create the bar plot\n",
    "plt.figure(figsize=(12, 6))\n",
    "for i, metric in enumerate(metrics):\n",
    "    plt.bar(x + i * bar_width, values[i], width=bar_width, label=metric, alpha=0.8)\n",
    "\n",
    "# Add labels, title, and legend\n",
    "plt.xlabel(\"Feature Representation\", fontsize=12)\n",
    "plt.ylabel(\"Metrics\", fontsize=12)\n",
    "plt.title(\"Naive Bayes Model Comparison by Metrics\", fontsize=14)\n",
    "plt.xticks(x + bar_width * 1.5, feature_sets, fontsize=12)  # Center the ticks\n",
    "plt.legend(fontsize=10)\n",
    "plt.grid(axis='y', linestyle='--', alpha=0.7)\n",
    "\n",
    "# Show the plot\n",
    "plt.tight_layout()\n",
    "plt.show()\n"
   ]
  },
  {
   "cell_type": "markdown",
   "metadata": {},
   "source": [
    "### Results\n",
    "\n",
    "After training the model, we evaluated it using metrics such as accuracy, precision, recall, and F1 score. The results are summarized in tables and through a bar graph for easier interpretation.\n",
    "\n",
    "**Key Observations**  \n",
    "- Using TF-IDF generally resulted in better performance, as it emphasizes the most relevant words.  \n",
    "- BoW provided comparable results but struggled slightly with the high dimensionality of the feature space.\n"
   ]
  },
  {
   "cell_type": "markdown",
   "metadata": {},
   "source": [
    "# Model Training and Evaluation: Support Vector Machine (SVM)"
   ]
  },
  {
   "cell_type": "markdown",
   "metadata": {},
   "source": [
    "Support Vector Machine (SVM) is a supervised machine learning algorithm that aims to find the optimal hyperplane that separates data into distinct classes. It is effective in high-dimensional spaces, making it a strong at text classification. Again, we will train this on BoW and TF-IDF."
   ]
  },
  {
   "cell_type": "code",
   "execution_count": 54,
   "metadata": {},
   "outputs": [
    {
     "name": "stdout",
     "output_type": "stream",
     "text": [
      "\n",
      "Training SVM on Bag of Words...\n",
      "\n",
      "Training SVM on TF-IDF...\n"
     ]
    },
    {
     "data": {
      "text/html": [
       "<div>\n",
       "<style scoped>\n",
       "    .dataframe tbody tr th:only-of-type {\n",
       "        vertical-align: middle;\n",
       "    }\n",
       "\n",
       "    .dataframe tbody tr th {\n",
       "        vertical-align: top;\n",
       "    }\n",
       "\n",
       "    .dataframe thead th {\n",
       "        text-align: right;\n",
       "    }\n",
       "</style>\n",
       "<table border=\"1\" class=\"dataframe\">\n",
       "  <thead>\n",
       "    <tr style=\"text-align: right;\">\n",
       "      <th></th>\n",
       "      <th>Feature Set</th>\n",
       "      <th>Model</th>\n",
       "      <th>Accuracy</th>\n",
       "      <th>Precision (Class 0)</th>\n",
       "      <th>Recall (Class 0)</th>\n",
       "      <th>F1-Score (Class 0)</th>\n",
       "      <th>Precision (Class 1)</th>\n",
       "      <th>Recall (Class 1)</th>\n",
       "      <th>F1-Score (Class 1)</th>\n",
       "    </tr>\n",
       "  </thead>\n",
       "  <tbody>\n",
       "    <tr>\n",
       "      <th>0</th>\n",
       "      <td>Bag of Words</td>\n",
       "      <td>SVM</td>\n",
       "      <td>0.81752</td>\n",
       "      <td>0.810953</td>\n",
       "      <td>0.82808</td>\n",
       "      <td>0.819427</td>\n",
       "      <td>0.824371</td>\n",
       "      <td>0.80696</td>\n",
       "      <td>0.815572</td>\n",
       "    </tr>\n",
       "    <tr>\n",
       "      <th>1</th>\n",
       "      <td>TF-IDF</td>\n",
       "      <td>SVM</td>\n",
       "      <td>0.85808</td>\n",
       "      <td>0.853387</td>\n",
       "      <td>0.86472</td>\n",
       "      <td>0.859016</td>\n",
       "      <td>0.862899</td>\n",
       "      <td>0.85144</td>\n",
       "      <td>0.857131</td>\n",
       "    </tr>\n",
       "  </tbody>\n",
       "</table>\n",
       "</div>"
      ],
      "text/plain": [
       "    Feature Set Model  Accuracy  Precision (Class 0)  Recall (Class 0)  \\\n",
       "0  Bag of Words   SVM   0.81752             0.810953           0.82808   \n",
       "1        TF-IDF   SVM   0.85808             0.853387           0.86472   \n",
       "\n",
       "   F1-Score (Class 0)  Precision (Class 1)  Recall (Class 1)  \\\n",
       "0            0.819427             0.824371           0.80696   \n",
       "1            0.859016             0.862899           0.85144   \n",
       "\n",
       "   F1-Score (Class 1)  \n",
       "0            0.815572  \n",
       "1            0.857131  "
      ]
     },
     "metadata": {},
     "output_type": "display_data"
    }
   ],
   "source": [
    "results = []\n",
    "\n",
    "def train_svm(X_train, X_test, y_train, y_test, feature_name):\n",
    "    print(f\"\\nTraining SVM on {feature_name}...\")\n",
    "    model = LinearSVC(dual=False, max_iter=10000)\n",
    "    model.fit(X_train, y_train)\n",
    "    y_pred = model.predict(X_test)\n",
    "\n",
    "    # Evaluation metrics\n",
    "    report = classification_report(y_test, y_pred, output_dict=True)\n",
    "    accuracy = accuracy_score(y_test, y_pred)\n",
    "\n",
    "    # Append results\n",
    "    results.append({\n",
    "        \"Feature Set\": feature_name,\n",
    "        \"Model\": \"SVM\",  # Explicitly include the model name\n",
    "        \"Accuracy\": accuracy,\n",
    "        \"Precision (Class 0)\": report['0']['precision'],\n",
    "        \"Recall (Class 0)\": report['0']['recall'],\n",
    "        \"F1-Score (Class 0)\": report['0']['f1-score'],\n",
    "        \"Precision (Class 1)\": report['1']['precision'],\n",
    "        \"Recall (Class 1)\": report['1']['recall'],\n",
    "        \"F1-Score (Class 1)\": report['1']['f1-score'],\n",
    "    })\n",
    "\n",
    "    return model\n",
    "\n",
    "# Train SVM models on both feature sets\n",
    "svm_bow_model = train_svm(X_train_bow, X_test_bow, y_train, y_test, \"Bag of Words\")\n",
    "svm_tfidf_model = train_svm(X_train_tfidf, X_test_tfidf, y_train, y_test, \"TF-IDF\")\n",
    "\n",
    "# Convert results to a DataFrame for display\n",
    "results_df = pd.DataFrame(results)\n",
    "\n",
    "display(results_df)\n"
   ]
  },
  {
   "cell_type": "code",
   "execution_count": 55,
   "metadata": {},
   "outputs": [
    {
     "data": {
      "image/png": "[encoded data removed]",
      "text/plain": [
       "<Figure size 1200x600 with 1 Axes>"
      ]
     },
     "metadata": {},
     "output_type": "display_data"
    }
   ],
   "source": [
    "# Extract metrics\n",
    "svm_results = results_df[results_df[\"Model\"] == \"SVM\"]\n",
    "\n",
    "# Extract metrics and feature sets\n",
    "metrics = [\"Accuracy\", \"Precision (Class 0)\", \"Recall (Class 0)\", \"F1-Score (Class 0)\"]\n",
    "feature_sets = svm_results[\"Feature Set\"]\n",
    "\n",
    "# Transpose metrics\n",
    "values = svm_results[metrics].T.values\n",
    "\n",
    "# Bar width and x positions\n",
    "bar_width = 0.2\n",
    "x = np.arange(len(feature_sets))\n",
    "\n",
    "# Create the bar plot\n",
    "plt.figure(figsize=(12, 6))\n",
    "for i, metric in enumerate(metrics):\n",
    "    plt.bar(x + i * bar_width, values[i], width=bar_width, label=metric, alpha=0.8)\n",
    "\n",
    "# Add labels, title, and legend\n",
    "plt.xlabel(\"Feature Representation\", fontsize=12)\n",
    "plt.ylabel(\"Metrics\", fontsize=12)\n",
    "plt.title(\"SVM Model Comparison by Metrics\", fontsize=14)\n",
    "plt.xticks(x + bar_width * 1.5, feature_sets, fontsize=12)  # Center the ticks\n",
    "plt.legend(fontsize=10)\n",
    "plt.grid(axis='y', linestyle='--', alpha=0.7)\n",
    "\n",
    "# Show the plot\n",
    "plt.tight_layout()\n",
    "plt.show()\n"
   ]
  },
  {
   "cell_type": "markdown",
   "metadata": {},
   "source": [
    "### Results\n",
    "\n",
    "After training the model, we evaluated it using metrics such as accuracy, precision, recall, and F1 score. The results are summarized in tables and through a bar graph for easier interpretation.\n",
    "\n",
    "**Key Observations**  \n",
    "- Using TF-IDF generally resulted in higher performance metrics, as it emphasizes the most relevant words and reduces noise from common terms.\n",
    "- While Bag of Words (BoW) provided comparable results, it was slightly less effective due to the high dimensionality and redundancy of the feature space."
   ]
  },
  {
   "cell_type": "markdown",
   "metadata": {},
   "source": [
    "# Model Comparison: Naive Bayes vs. SVM\n",
    "\n",
    "After training and evaluating both Naive Bayes and SVM models, we summarized their performance metrics to understand how each model performs with different feature sets."
   ]
  },
  {
   "cell_type": "code",
   "execution_count": 57,
   "metadata": {},
   "outputs": [
    {
     "data": {
      "text/html": [
       "<div>\n",
       "<style scoped>\n",
       "    .dataframe tbody tr th:only-of-type {\n",
       "        vertical-align: middle;\n",
       "    }\n",
       "\n",
       "    .dataframe tbody tr th {\n",
       "        vertical-align: top;\n",
       "    }\n",
       "\n",
       "    .dataframe thead th {\n",
       "        text-align: right;\n",
       "    }\n",
       "</style>\n",
       "<table border=\"1\" class=\"dataframe\">\n",
       "  <thead>\n",
       "    <tr style=\"text-align: right;\">\n",
       "      <th></th>\n",
       "      <th>Feature Set</th>\n",
       "      <th>Model</th>\n",
       "      <th>Accuracy</th>\n",
       "      <th>Precision (Class 0)</th>\n",
       "      <th>Recall (Class 0)</th>\n",
       "      <th>F1-Score (Class 0)</th>\n",
       "      <th>Precision (Class 1)</th>\n",
       "      <th>Recall (Class 1)</th>\n",
       "      <th>F1-Score (Class 1)</th>\n",
       "    </tr>\n",
       "  </thead>\n",
       "  <tbody>\n",
       "    <tr>\n",
       "      <th>0</th>\n",
       "      <td>Bag of Words</td>\n",
       "      <td>Naive Bayes</td>\n",
       "      <td>0.83348</td>\n",
       "      <td>0.81529</td>\n",
       "      <td>0.86232</td>\n",
       "      <td>0.83815</td>\n",
       "      <td>0.85389</td>\n",
       "      <td>0.80464</td>\n",
       "      <td>0.82854</td>\n",
       "    </tr>\n",
       "    <tr>\n",
       "      <th>1</th>\n",
       "      <td>TF-IDF</td>\n",
       "      <td>Naive Bayes</td>\n",
       "      <td>0.83880</td>\n",
       "      <td>0.82592</td>\n",
       "      <td>0.85856</td>\n",
       "      <td>0.84192</td>\n",
       "      <td>0.85274</td>\n",
       "      <td>0.81904</td>\n",
       "      <td>0.83555</td>\n",
       "    </tr>\n",
       "    <tr>\n",
       "      <th>2</th>\n",
       "      <td>Bag of Words</td>\n",
       "      <td>SVM</td>\n",
       "      <td>0.81752</td>\n",
       "      <td>0.81095</td>\n",
       "      <td>0.82808</td>\n",
       "      <td>0.81943</td>\n",
       "      <td>0.82437</td>\n",
       "      <td>0.80696</td>\n",
       "      <td>0.81557</td>\n",
       "    </tr>\n",
       "    <tr>\n",
       "      <th>3</th>\n",
       "      <td>TF-IDF</td>\n",
       "      <td>SVM</td>\n",
       "      <td>0.85808</td>\n",
       "      <td>0.85339</td>\n",
       "      <td>0.86472</td>\n",
       "      <td>0.85902</td>\n",
       "      <td>0.86290</td>\n",
       "      <td>0.85144</td>\n",
       "      <td>0.85713</td>\n",
       "    </tr>\n",
       "  </tbody>\n",
       "</table>\n",
       "</div>"
      ],
      "text/plain": [
       "    Feature Set        Model  Accuracy  Precision (Class 0)  Recall (Class 0)  \\\n",
       "0  Bag of Words  Naive Bayes   0.83348              0.81529           0.86232   \n",
       "1        TF-IDF  Naive Bayes   0.83880              0.82592           0.85856   \n",
       "2  Bag of Words          SVM   0.81752              0.81095           0.82808   \n",
       "3        TF-IDF          SVM   0.85808              0.85339           0.86472   \n",
       "\n",
       "   F1-Score (Class 0)  Precision (Class 1)  Recall (Class 1)  \\\n",
       "0             0.83815              0.85389           0.80464   \n",
       "1             0.84192              0.85274           0.81904   \n",
       "2             0.81943              0.82437           0.80696   \n",
       "3             0.85902              0.86290           0.85144   \n",
       "\n",
       "   F1-Score (Class 1)  \n",
       "0             0.82854  \n",
       "1             0.83555  \n",
       "2             0.81557  \n",
       "3             0.85713  "
      ]
     },
     "metadata": {},
     "output_type": "display_data"
    }
   ],
   "source": [
    "import pandas as pd\n",
    "from IPython.display import display\n",
    "\n",
    "# Correct results data, was having trouble doing it elsewise so I decided on manually implementing results for the sake of results here.\n",
    "comparison_data = [\n",
    "    {\"Feature Set\": \"Bag of Words\", \"Model\": \"Naive Bayes\", \"Accuracy\": round(0.83348, 5),\n",
    "     \"Precision (Class 0)\": round(0.815294, 5), \"Recall (Class 0)\": round(0.86232, 5), \"F1-Score (Class 0)\": round(0.838148, 5),\n",
    "     \"Precision (Class 1)\": round(0.853893, 5), \"Recall (Class 1)\": round(0.80464, 5), \"F1-Score (Class 1)\": round(0.828535, 5)},\n",
    "    {\"Feature Set\": \"TF-IDF\", \"Model\": \"Naive Bayes\", \"Accuracy\": round(0.83880, 5),\n",
    "     \"Precision (Class 0)\": round(0.825920, 5), \"Recall (Class 0)\": round(0.85856, 5), \"F1-Score (Class 0)\": round(0.841924, 5),\n",
    "     \"Precision (Class 1)\": round(0.852740, 5), \"Recall (Class 1)\": round(0.81904, 5), \"F1-Score (Class 1)\": round(0.835550, 5)},\n",
    "    {\"Feature Set\": \"Bag of Words\", \"Model\": \"SVM\", \"Accuracy\": round(0.81752, 5),\n",
    "     \"Precision (Class 0)\": round(0.810953, 5), \"Recall (Class 0)\": round(0.82808, 5), \"F1-Score (Class 0)\": round(0.819427, 5),\n",
    "     \"Precision (Class 1)\": round(0.824371, 5), \"Recall (Class 1)\": round(0.80696, 5), \"F1-Score (Class 1)\": round(0.815572, 5)},\n",
    "    {\"Feature Set\": \"TF-IDF\", \"Model\": \"SVM\", \"Accuracy\": round(0.85808, 5),\n",
    "     \"Precision (Class 0)\": round(0.853387, 5), \"Recall (Class 0)\": round(0.86472, 5), \"F1-Score (Class 0)\": round(0.859016, 5),\n",
    "     \"Precision (Class 1)\": round(0.862899, 5), \"Recall (Class 1)\": round(0.85144, 5), \"F1-Score (Class 1)\": round(0.857131, 5)}\n",
    "]\n",
    "\n",
    "# Create DataFrame\n",
    "comparison_df = pd.DataFrame(comparison_data)\n",
    "\n",
    "# Display the table\n",
    "display(comparison_df)\n"
   ]
  },
  {
   "cell_type": "code",
   "execution_count": 58,
   "metadata": {},
   "outputs": [
    {
     "data": {
      "image/png": "[encoded data removed]",
      "text/plain": [
       "<Figure size 1200x600 with 1 Axes>"
      ]
     },
     "metadata": {},
     "output_type": "display_data"
    }
   ],
   "source": [
    "import matplotlib.pyplot as plt\n",
    "import numpy as np\n",
    "\n",
    "# Define metrics\n",
    "metrics = [\"Accuracy\", \"Precision (Class 0)\", \"Recall (Class 0)\", \"F1-Score (Class 0)\"]\n",
    "\n",
    "# Extract data for plotting\n",
    "nb_bow = [0.83348, 0.815294, 0.86232, 0.838148]\n",
    "nb_tfidf = [0.83880, 0.825920, 0.85856, 0.841924]\n",
    "svm_bow = [0.81752, 0.810953, 0.82808, 0.819427]\n",
    "svm_tfidf = [0.85808, 0.853387, 0.86472, 0.859016]\n",
    "\n",
    "# Bar width and positions\n",
    "bar_width = 0.2\n",
    "x = np.arange(len(metrics))\n",
    "\n",
    "# Create the bar plot\n",
    "plt.figure(figsize=(12, 6))\n",
    "plt.bar(x - bar_width * 1.5, nb_bow, width=bar_width, label=\"NB - BoW\", alpha=0.8, color='blue')\n",
    "plt.bar(x - bar_width * 0.5, nb_tfidf, width=bar_width, label=\"NB - TF-IDF\", alpha=0.8, color='lightblue')\n",
    "plt.bar(x + bar_width * 0.5, svm_bow, width=bar_width, label=\"SVM - BoW\", alpha=0.8, color='orange')\n",
    "plt.bar(x + bar_width * 1.5, svm_tfidf, width=bar_width, label=\"SVM - TF-IDF\", alpha=0.8, color='gold')\n",
    "\n",
    "# Add labels, title, and legend\n",
    "plt.xlabel(\"Metrics\", fontsize=12)\n",
    "plt.ylabel(\"Values\", fontsize=12)\n",
    "plt.title(\"Naive Bayes vs. SVM: Performance Comparison\", fontsize=14)\n",
    "plt.xticks(x, metrics, fontsize=10)\n",
    "plt.legend(fontsize=10)\n",
    "plt.grid(axis='y', linestyle='--', alpha=0.7)\n",
    "\n",
    "# Show the plot\n",
    "plt.tight_layout()\n",
    "plt.show()\n"
   ]
  },
  {
   "cell_type": "markdown",
   "metadata": {},
   "source": [
    "### **Key Observations**\n",
    "\n",
    "**Overall Performance**:  \n",
    "SVM outperformed Naive Bayes across all metrics, demonstrating its capability to handle high-dimensional data and complex decision boundaries more effectively.\n",
    "\n",
    "**TF-IDF vs. Bag of Words**:  \n",
    "Both models performed better with TF-IDF features compared to Bag of Words. TF-IDF emphasizes important terms and reduces noise from common words, leading to better classification accuracy and precision.\n",
    "\n",
    "**Strengths of Naive Bayes**:  \n",
    "Naive Bayes is computationally simpler and faster to train, making it a good choice for tasks where speed is critical or resources are limited.\n",
    "\n",
    "**Strengths of SVM**:  \n",
    "While slower to train, SVM achieved significantly better accuracy and precision, especially with TF-IDF features, making it ideal for tasks where performance is prioritized.\n"
   ]
  },
  {
   "cell_type": "markdown",
   "metadata": {},
   "source": [
    "# Advanced Model: RNN\n"
   ]
  },
  {
   "cell_type": "markdown",
   "metadata": {},
   "source": [
    "# Conclusion"
   ]
  },
  {
   "cell_type": "markdown",
   "metadata": {},
   "source": [
    "# Contributions\n",
    "\n",
    "This notebook is split into these 11 sections:\n",
    "- Introducion (Collaborative)\n",
    "- Dataset Description (Collaborative)\n",
    "- Data Preprocessing (Dereck Lebron)\n",
    "- Feature Extraction (Dereck Lebron)\n",
    "- Model Training and Evaluation: Naive Bayes (Dereck Lebron)\n",
    "- Model Training and Evaluation: Support Vector Machine (SVM) (Jackson Fuller)\n",
    "- Model Comparison: Naive Bayes vs. SVM (Collaborative)\n",
    "- Advanced Model: RNN (Jackson Fuller)\n",
    "- Conclusion (Jackson Fuller)\n",
    "- Contributions (Collaborative)\n",
    "- Citation (Dereck Lebron)\n",
    "\n",
    "The name of the member listed next to each section here is responsible for all code and writing of that specific section, if it says 'collaborative' next to it, both members worked together to complete the section."
   ]
  },
  {
   "cell_type": "markdown",
   "metadata": {},
   "source": [
    "# Citation\n",
    "\n",
    "Citation for IMDB Movie Review Dataset:\n",
    "\n",
    "> Maas, Andrew L., Daly, Raymond E., Pham, Peter T., Huang, Dan, Ng, Andrew Y., Potts, Christopher.  \n",
    "> *Learning Word Vectors for Sentiment Analysis.*  \n",
    "> Proceedings of the 49th Annual Meeting of the Association for Computational Linguistics: Human Language Technologies.  \n",
    "> June 2011, Portland, Oregon, USA.  \n",
    "> Association for Computational Linguistics. pp. 142–150.  \n",
    "> [http://www.aclweb.org/anthology/P11-1015](http://www.aclweb.org/anthology/P11-1015)\n"
   ]
  }
 ],
 "metadata": {
  "kernelspec": {
   "display_name": "Python 3 (ipykernel)",
   "language": "python",
   "name": "python3"
  },
  "language_info": {
   "codemirror_mode": {
    "name": "ipython",
    "version": 3
   },
   "file_extension": ".py",
   "mimetype": "text/x-python",
   "name": "python",
   "nbconvert_exporter": "python",
   "pygments_lexer": "ipython3",
   "version": "3.11.5"
  }
 },
 "nbformat": 4,
 "nbformat_minor": 2
}
